{
 "metadata": {
  "language_info": {
   "codemirror_mode": {
    "name": "ipython",
    "version": 3
   },
   "file_extension": ".py",
   "mimetype": "text/x-python",
   "name": "python",
   "nbconvert_exporter": "python",
   "pygments_lexer": "ipython3",
   "version": "3.7.9-final"
  },
  "orig_nbformat": 2,
  "kernelspec": {
   "name": "python3",
   "display_name": "Python 3",
   "language": "python"
  }
 },
 "nbformat": 4,
 "nbformat_minor": 2,
 "cells": [
  {
   "cell_type": "code",
   "execution_count": 57,
   "metadata": {},
   "outputs": [],
   "source": [
    "import csv\n",
    "import re\n",
    "\n",
    "subway_usages10000 = []\n",
    "\n",
    "with open('subway_usage.csv', 'r') as f:\n",
    "    reader = csv.reader(f)\n",
    "    header = next(reader)\n",
    "\n",
    "    for txt in reader:\n",
    "        subway_usages10000.append(txt)"
   ]
  },
  {
   "cell_type": "code",
   "execution_count": 58,
   "metadata": {},
   "outputs": [],
   "source": [
    "import pymysql\n",
    "\n",
    "connection_info = { 'host': 'localhost', 'user': 'root', 'password': 'Wnalsrl1210', 'db': 'project1', 'charset': 'utf8' }\n",
    "        \n",
    "conn = pymysql.connect(**connection_info)\n",
    "cursor = conn.cursor()\n",
    "\n",
    "sql = 'CREATE TABLE IF NOT EXISTS subway_usages5 (Date varchar(10), SubLine varchar(15), SubStation varchar(200), pay_pass_on_board int, free_pass_on_board int, pay_dise_pass int, free_dise_pass int, pass_on_board int, dise_pass int)'\n",
    "cursor.execute(sql)\n",
    "\n",
    "sql = 'DELETE FROM subway_usages5'\n",
    "cursor.execute(sql)\n",
    "\n",
    "sql = 'INSERT INTO subway_usages5 VALUES(%s, %s, %s, %s, %s, %s, %s, %s, %s)'\n",
    "cursor.executemany(sql, subway_usages10000)\n",
    "\n",
    "conn.commit()\n",
    "\n",
    "conn.close()"
   ]
  },
  {
   "cell_type": "code",
   "execution_count": null,
   "metadata": {},
   "outputs": [],
   "source": []
  }
 ]
}